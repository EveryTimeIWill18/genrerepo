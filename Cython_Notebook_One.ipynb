{
  "nbformat": 4,
  "nbformat_minor": 0,
  "metadata": {
    "colab": {
      "name": "Cython_Notebook_One.ipynb",
      "version": "0.3.2",
      "provenance": [],
      "include_colab_link": true
    },
    "kernelspec": {
      "name": "python3",
      "display_name": "Python 3"
    }
  },
  "cells": [
    {
      "cell_type": "markdown",
      "metadata": {
        "id": "view-in-github",
        "colab_type": "text"
      },
      "source": [
        "[View in Colaboratory](https://colab.research.google.com/github/EveryTimeIWill18/genrerepo/blob/master/Cython_Notebook_One.ipynb)"
      ]
    },
    {
      "metadata": {
        "id": "bii4RZ--jzZJ",
        "colab_type": "code",
        "colab": {
          "base_uri": "https://localhost:8080/",
          "height": 490
        },
        "outputId": "fb7e65ce-82d1-4f07-f268-628423311173"
      },
      "cell_type": "code",
      "source": [
        "# install cython\n",
        "!pip install cython\n",
        "!pip install spacy\n",
        "!pip install pyspark\n",
        "# load cython\n",
        "%load_ext Cython"
      ],
      "execution_count": 35,
      "outputs": [
        {
          "output_type": "stream",
          "text": [
            "Requirement already satisfied: cython in /usr/local/lib/python3.6/dist-packages (0.28.5)\n",
            "Requirement already satisfied: spacy in /usr/local/lib/python3.6/dist-packages (2.0.12)\n",
            "Requirement already satisfied: numpy>=1.7 in /usr/local/lib/python3.6/dist-packages (from spacy) (1.14.6)\n",
            "Requirement already satisfied: murmurhash<0.29,>=0.28 in /usr/local/lib/python3.6/dist-packages (from spacy) (0.28.0)\n",
            "Requirement already satisfied: cymem<1.32,>=1.30 in /usr/local/lib/python3.6/dist-packages (from spacy) (1.31.2)\n",
            "Requirement already satisfied: preshed<2.0.0,>=1.0.0 in /usr/local/lib/python3.6/dist-packages (from spacy) (1.0.1)\n",
            "Requirement already satisfied: thinc<6.11.0,>=6.10.3 in /usr/local/lib/python3.6/dist-packages (from spacy) (6.10.3)\n",
            "Requirement already satisfied: plac<1.0.0,>=0.9.6 in /usr/local/lib/python3.6/dist-packages (from spacy) (0.9.6)\n",
            "Requirement already satisfied: ujson>=1.35 in /usr/local/lib/python3.6/dist-packages (from spacy) (1.35)\n",
            "Requirement already satisfied: dill<0.3,>=0.2 in /usr/local/lib/python3.6/dist-packages (from spacy) (0.2.8.2)\n",
            "Requirement already satisfied: regex==2017.4.5 in /usr/local/lib/python3.6/dist-packages (from spacy) (2017.4.5)\n",
            "Requirement already satisfied: requests<3.0.0,>=2.13.0 in /usr/local/lib/python3.6/dist-packages (from spacy) (2.18.4)\n",
            "Requirement already satisfied: msgpack<1.0.0,>=0.5.6 in /usr/local/lib/python3.6/dist-packages (from thinc<6.11.0,>=6.10.3->spacy) (0.5.6)\n",
            "Requirement already satisfied: msgpack-numpy<1.0.0,>=0.4.1 in /usr/local/lib/python3.6/dist-packages (from thinc<6.11.0,>=6.10.3->spacy) (0.4.4.1)\n",
            "Requirement already satisfied: cytoolz<0.10,>=0.9.0 in /usr/local/lib/python3.6/dist-packages (from thinc<6.11.0,>=6.10.3->spacy) (0.9.0.1)\n",
            "Requirement already satisfied: wrapt<1.11.0,>=1.10.0 in /usr/local/lib/python3.6/dist-packages (from thinc<6.11.0,>=6.10.3->spacy) (1.10.11)\n",
            "Requirement already satisfied: tqdm<5.0.0,>=4.10.0 in /usr/local/lib/python3.6/dist-packages (from thinc<6.11.0,>=6.10.3->spacy) (4.26.0)\n",
            "Requirement already satisfied: six<2.0.0,>=1.10.0 in /usr/local/lib/python3.6/dist-packages (from thinc<6.11.0,>=6.10.3->spacy) (1.11.0)\n",
            "Requirement already satisfied: idna<2.7,>=2.5 in /usr/local/lib/python3.6/dist-packages (from requests<3.0.0,>=2.13.0->spacy) (2.6)\n",
            "Requirement already satisfied: certifi>=2017.4.17 in /usr/local/lib/python3.6/dist-packages (from requests<3.0.0,>=2.13.0->spacy) (2018.8.24)\n",
            "Requirement already satisfied: urllib3<1.23,>=1.21.1 in /usr/local/lib/python3.6/dist-packages (from requests<3.0.0,>=2.13.0->spacy) (1.22)\n",
            "Requirement already satisfied: chardet<3.1.0,>=3.0.2 in /usr/local/lib/python3.6/dist-packages (from requests<3.0.0,>=2.13.0->spacy) (3.0.4)\n",
            "Requirement already satisfied: toolz>=0.8.0 in /usr/local/lib/python3.6/dist-packages (from cytoolz<0.10,>=0.9.0->thinc<6.11.0,>=6.10.3->spacy) (0.9.0)\n",
            "Requirement already satisfied: pyspark in /usr/local/lib/python3.6/dist-packages (2.3.2)\n",
            "Requirement already satisfied: py4j==0.10.7 in /usr/local/lib/python3.6/dist-packages (from pyspark) (0.10.7)\n",
            "The Cython extension is already loaded. To reload it, use:\n",
            "  %reload_ext Cython\n"
          ],
          "name": "stdout"
        }
      ]
    },
    {
      "metadata": {
        "id": "hvxHwZ_eqYJd",
        "colab_type": "code",
        "colab": {}
      },
      "cell_type": "code",
      "source": [
        "%%cython\n",
        "from cymem.cymem cimport Pool\n",
        "from random import random\n",
        "\n",
        "cdef class Rectangle:\n",
        "    cdef int x0, y0\n",
        "    cdef int x1, y1\n",
        "\n",
        "    def __init__(self, int x0, int y0, int x1, int y1):\n",
        "        self.x0 = x0\n",
        "        self.y0 = y0\n",
        "        self.x1 = x1\n",
        "        self.y1 = y1\n",
        "    \n",
        "    # c method: memory efficient\n",
        "    cdef int _area(self):\n",
        "        area = (self.x1 - self.x0) * (self.y1 - self.y0)\n",
        "        if area < 0:\n",
        "            area = -area\n",
        "        return area\n",
        "    \n",
        "    def area(self):\n",
        "        return self._area()\n",
        "\n",
        "def rectArea(x0, y0, x1, y1):\n",
        "    rect = Rectangle(x0, y0, x1, y1)\n",
        "    return rect.area()\n",
        "    \n",
        "    \n",
        "    \n",
        "\n",
        "\n"
      ],
      "execution_count": 0,
      "outputs": []
    },
    {
      "metadata": {
        "id": "T-yFNYKbq8TX",
        "colab_type": "code",
        "colab": {}
      },
      "cell_type": "code",
      "source": [
        "cpdef int sum_cy(int n):\n",
        "  "
      ],
      "execution_count": 0,
      "outputs": []
    },
    {
      "metadata": {
        "id": "s18ZMgmivGok",
        "colab_type": "code",
        "colab": {}
      },
      "cell_type": "code",
      "source": [
        "!apt-get install openjdk-8-jdk-headless -qq > /dev/null\n",
        "!wget -q http://apache.osuosl.org/spark/spark-2.2.1/spark-2.2.1-bin-hadoop2.7.tgz\n",
        "!tar xf spark-2.2.1-bin-hadoop2.7.tgz\n",
        "!pip install -q findspark"
      ],
      "execution_count": 0,
      "outputs": []
    },
    {
      "metadata": {
        "id": "UaK5L8sstrkf",
        "colab_type": "code",
        "colab": {
          "base_uri": "https://localhost:8080/",
          "height": 252
        },
        "outputId": "8f342f9d-2a47-4ec3-d0f7-e15849676070"
      },
      "cell_type": "code",
      "source": [
        "from pyspark.sql import SparkSession\n",
        "from pyspark.sql import Row\n",
        "from pyspark.sql.types import *\n",
        "from pyspark.sql.functions import mean, min, max\n",
        "import requests\n",
        "import numpy as np\n",
        "import pandas as pd\n",
        "from pprint import pprint\n",
        "\n",
        "\n",
        "# --- set up spark session\n",
        "spark = SparkSession.builder \\\n",
        "                    .appName(\"Spark app one\")\\\n",
        "                    .config(\"config options\")\\\n",
        "                    .getOrCreate()                   \n",
        "        \n",
        "url = \"https://assets.datacamp.com/production/course_1975/datasets/titanic_all_numeric.csv\"\n",
        "payload = {'username': 'EveryTimeIWill18', 'password': 'Tr2oy222222!'}\n",
        "\n",
        "# --- make request\n",
        "r = requests.get(url)\n",
        "if r.status_code == 200:\n",
        "  print(\"status code: {}\".format(r.status_code))\n",
        "  \n",
        "  content = r.content \\\n",
        "             .decode('utf-8')\\\n",
        "             .split('\\n')\n",
        "  to_series = lambda x: pd.Series(x)\n",
        "  \n",
        "  cols = list(content[0].split(\",\"))\n",
        "  \n",
        "  content = (pd.Series(content[1:]).str\n",
        "                                   .split(',')\n",
        "                                   .apply(to_series))\n",
        "                                   #.apply(lambda x: pd.Series(columns),axis=1))\n",
        "  content.columns = cols\n",
        "  print(content.head())\n",
        "\n",
        "\n",
        "\n",
        "\n",
        "\n"
      ],
      "execution_count": 51,
      "outputs": [
        {
          "output_type": "stream",
          "text": [
            "status code: 200\n",
            "  survived pclass   age sibsp parch     fare male age_was_missing  \\\n",
            "0        0      3  22.0     1     0     7.25    1           False   \n",
            "1        1      1  38.0     1     0  71.2833    0           False   \n",
            "2        1      3  26.0     0     0    7.925    0           False   \n",
            "3        1      1  35.0     1     0     53.1    0           False   \n",
            "4        0      3  35.0     0     0     8.05    1           False   \n",
            "\n",
            "  embarked_from_cherbourg embarked_from_queenstown embarked_from_southampton  \n",
            "0                       0                        0                         1  \n",
            "1                       1                        0                         0  \n",
            "2                       0                        0                         1  \n",
            "3                       0                        0                         1  \n",
            "4                       0                        0                         1  \n"
          ],
          "name": "stdout"
        }
      ]
    },
    {
      "metadata": {
        "id": "Ku4yY5tMuT2b",
        "colab_type": "code",
        "colab": {}
      },
      "cell_type": "code",
      "source": [
        ""
      ],
      "execution_count": 0,
      "outputs": []
    }
  ]
}